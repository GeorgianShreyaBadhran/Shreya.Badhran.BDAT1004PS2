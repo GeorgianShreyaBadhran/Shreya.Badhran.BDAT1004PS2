{
 "cells": [
  {
   "cell_type": "markdown",
   "id": "a761305c",
   "metadata": {},
   "source": [
    "#### Q1"
   ]
  },
  {
   "cell_type": "code",
   "execution_count": 1,
   "id": "375a5832",
   "metadata": {},
   "outputs": [],
   "source": [
    "a = 0\n",
    "def b():\n",
    " global a\n",
    " a = c(a)\n",
    "def c(a):\n",
    " return a + 2"
   ]
  },
  {
   "cell_type": "code",
   "execution_count": 2,
   "id": "aa4cfb92",
   "metadata": {},
   "outputs": [
    {
     "data": {
      "text/plain": [
       "6"
      ]
     },
     "execution_count": 2,
     "metadata": {},
     "output_type": "execute_result"
    }
   ],
   "source": [
    "b()\n",
    "b()\n",
    "b()\n",
    "a"
   ]
  },
  {
   "cell_type": "markdown",
   "id": "115a9d22",
   "metadata": {},
   "source": [
    "What value is displayed when the last expression (a) is evaluated? Explain your\n",
    "answer by indicating what happens in every executed statement.<br>\n"
   ]
  },
  {
   "cell_type": "markdown",
   "id": "96342e3d",
   "metadata": {},
   "source": [
    "initial value of a is 0, it is used in both b and c. B () called function c (), which increases the values by 2. same way, each time b is called, and c is also called, there is increament of value of 2. Since \"a\" is a global variable, its value is changed globally each time b is called."
   ]
  },
  {
   "cell_type": "markdown",
   "id": "d1b53413",
   "metadata": {},
   "source": [
    "#### Q2"
   ]
  },
  {
   "cell_type": "code",
   "execution_count": 1,
   "id": "a584362a",
   "metadata": {},
   "outputs": [],
   "source": [
    "def file_length(file_name):\n",
    "    try:\n",
    "        file = open(file_name)\n",
    "        contents = file.read()\n",
    "        file.close()\n",
    "        print(len(contents))\n",
    "    except IOError:\n",
    "        # executed only if an IOError exception is raised\n",
    "        print('File {} not found'.format(file_name))        "
   ]
  },
  {
   "cell_type": "code",
   "execution_count": 4,
   "id": "9fab9599",
   "metadata": {},
   "outputs": [
    {
     "name": "stdout",
     "output_type": "stream",
     "text": [
      "226\n"
     ]
    }
   ],
   "source": [
    "file_length('mideterm.py')"
   ]
  },
  {
   "cell_type": "code",
   "execution_count": 5,
   "id": "75ca75d3",
   "metadata": {},
   "outputs": [
    {
     "name": "stdout",
     "output_type": "stream",
     "text": [
      "File ideterm.py not found\n"
     ]
    }
   ],
   "source": [
    "file_length('ideterm.py')"
   ]
  },
  {
   "cell_type": "markdown",
   "id": "273c8f1f",
   "metadata": {},
   "source": [
    "#### Q3"
   ]
  },
  {
   "cell_type": "code",
   "execution_count": 58,
   "id": "6a948cd6",
   "metadata": {},
   "outputs": [],
   "source": [
    "class Marsupial:\n",
    "    def __init__(self,initial = []):\n",
    "        self.lst = initial\n",
    "\n",
    "    def put_in_pouch(self, list_item):\n",
    "        self.lst.append(list_item)\n",
    "\n",
    "    def pouch_contents(self):\n",
    "        return self.lst\n",
    "\n",
    "\n",
    "class Kangaroo(Marsupial):\n",
    "    def __init__(self, coord_x=0, coord_y=0):\n",
    "        super().__init__()\n",
    "        self.coord_x = coord_x\n",
    "        self.coord_y = coord_y\n",
    "\n",
    "    def jump(self, dx_input, dy_input):\n",
    "        self.coord_x = self.coord_x + dx_input\n",
    "        self.coord_y = self.coord_y + dy_input\n",
    "\n",
    "    def __str__(self):\n",
    "        return f\"I am a Kangaroo located at coordinates ({self.coord_x},{self.coord_y})\""
   ]
  },
  {
   "cell_type": "code",
   "execution_count": 59,
   "id": "657f4e93",
   "metadata": {},
   "outputs": [
    {
     "name": "stdout",
     "output_type": "stream",
     "text": [
      "I am a Kangaroo located at coordinates (0,0)\n"
     ]
    }
   ],
   "source": [
    "k = Kangaroo(0,0)\n",
    "print(k)"
   ]
  },
  {
   "cell_type": "code",
   "execution_count": 60,
   "id": "38e11525",
   "metadata": {},
   "outputs": [
    {
     "data": {
      "text/plain": [
       "['doll', 'firetruck', 'kitten']"
      ]
     },
     "execution_count": 60,
     "metadata": {},
     "output_type": "execute_result"
    }
   ],
   "source": [
    "k.put_in_pouch('doll')\n",
    "k.put_in_pouch('firetruck')\n",
    "k.put_in_pouch('kitten')\n",
    "k.pouch_contents()"
   ]
  },
  {
   "cell_type": "code",
   "execution_count": 61,
   "id": "e01e9ee1",
   "metadata": {},
   "outputs": [],
   "source": [
    "k.jump(1,0)\n",
    "k.jump(1,0)\n",
    "k.jump(1,0)"
   ]
  },
  {
   "cell_type": "code",
   "execution_count": 62,
   "id": "b198e708",
   "metadata": {},
   "outputs": [
    {
     "name": "stdout",
     "output_type": "stream",
     "text": [
      "I am a Kangaroo located at coordinates (3,0)\n"
     ]
    }
   ],
   "source": [
    "print(k)"
   ]
  },
  {
   "cell_type": "markdown",
   "id": "fa24c46c",
   "metadata": {},
   "source": [
    "#### Q4"
   ]
  },
  {
   "cell_type": "code",
   "execution_count": 16,
   "id": "2de6f848",
   "metadata": {},
   "outputs": [],
   "source": [
    "def collatz(n):\n",
    "        if n == 1: \n",
    "            print(1)\n",
    "        elif n % 2 == 0:\n",
    "            print(int(n))\n",
    "            n=n/2\n",
    "            collatz(n)\n",
    "        else:\n",
    "            print(int(n))\n",
    "            n=3*n + 1\n",
    "            collatz(n)    "
   ]
  },
  {
   "cell_type": "code",
   "execution_count": 17,
   "id": "9f1557e8",
   "metadata": {},
   "outputs": [
    {
     "name": "stdout",
     "output_type": "stream",
     "text": [
      "10\n",
      "5\n",
      "16\n",
      "8\n",
      "4\n",
      "2\n",
      "1\n"
     ]
    }
   ],
   "source": [
    "collatz(10)"
   ]
  },
  {
   "cell_type": "markdown",
   "id": "268be34b",
   "metadata": {},
   "source": [
    "#### Q5"
   ]
  },
  {
   "cell_type": "code",
   "execution_count": 23,
   "id": "900cfdc5",
   "metadata": {},
   "outputs": [],
   "source": [
    "def binary(num):\n",
    "    if (num == 0):\n",
    "        target = 0\n",
    "        return target\n",
    "    if (num == 1):\n",
    "        target = 1  \n",
    "        return target\n",
    "    else:\n",
    "        target = num % 2 + 10 * (binary(num//2))\n",
    "        return target"
   ]
  },
  {
   "cell_type": "code",
   "execution_count": 24,
   "id": "5a4ab4f7",
   "metadata": {},
   "outputs": [
    {
     "name": "stdout",
     "output_type": "stream",
     "text": [
      "1\n"
     ]
    }
   ],
   "source": [
    "print(binary(1))"
   ]
  },
  {
   "cell_type": "code",
   "execution_count": 25,
   "id": "23ffd56a",
   "metadata": {},
   "outputs": [
    {
     "name": "stdout",
     "output_type": "stream",
     "text": [
      "11\n"
     ]
    }
   ],
   "source": [
    "print(binary(3))"
   ]
  },
  {
   "cell_type": "code",
   "execution_count": 26,
   "id": "5f902d6c",
   "metadata": {},
   "outputs": [
    {
     "name": "stdout",
     "output_type": "stream",
     "text": [
      "1001\n"
     ]
    }
   ],
   "source": [
    "print(binary(9))"
   ]
  },
  {
   "cell_type": "markdown",
   "id": "55f64f3b",
   "metadata": {},
   "source": [
    "#### Q6"
   ]
  },
  {
   "cell_type": "code",
   "execution_count": 81,
   "id": "a0ba69cc",
   "metadata": {},
   "outputs": [],
   "source": [
    "#Reference: https://docs.python.org/3/library/html.parser.html#module-html.parser\n",
    "from html.parser import HTMLParser\n",
    "\n",
    "class HeadingParser(HTMLParser):\n",
    "    def __init__(self):\n",
    "        super().__init__()\n",
    "        self.identation = 0\n",
    "        self.data_value = \"\"\n",
    "\n",
    "    def handle_starttag(self, tag, attrs):\n",
    "        if tag in [\"h1\", \"h2\"]:\n",
    "            self.identation = int(tag[1]) - 1\n",
    "            self.data_value = \"\"\n",
    "\n",
    "    def handle_data(self, data):\n",
    "        if self.identation >= 0:\n",
    "            self.data_value += data\n",
    "\n",
    "    def handle_endtag(self, tag):\n",
    "        if tag in [\"h1\", \"h2\"]:\n",
    "            print(\"  \" * self.identation + self.data_value)"
   ]
  },
  {
   "cell_type": "code",
   "execution_count": 82,
   "id": "e3ec073b",
   "metadata": {},
   "outputs": [],
   "source": [
    "infile = open('w3c.html')"
   ]
  },
  {
   "cell_type": "code",
   "execution_count": 83,
   "id": "ded7b5ed",
   "metadata": {},
   "outputs": [],
   "source": [
    "content = infile.read()"
   ]
  },
  {
   "cell_type": "code",
   "execution_count": 84,
   "id": "5876f840",
   "metadata": {},
   "outputs": [],
   "source": [
    "hp = HeadingParser()"
   ]
  },
  {
   "cell_type": "code",
   "execution_count": 85,
   "id": "9f9aae4e",
   "metadata": {},
   "outputs": [],
   "source": [
    "infile.close()"
   ]
  },
  {
   "cell_type": "code",
   "execution_count": 86,
   "id": "0eb07ac3",
   "metadata": {},
   "outputs": [
    {
     "name": "stdout",
     "output_type": "stream",
     "text": [
      "W3C Mission\n",
      "  Principles\n"
     ]
    }
   ],
   "source": [
    "hp.feed(content)"
   ]
  },
  {
   "cell_type": "code",
   "execution_count": null,
   "id": "e09326ba",
   "metadata": {},
   "outputs": [],
   "source": []
  },
  {
   "cell_type": "markdown",
   "id": "956bbd4e",
   "metadata": {},
   "source": [
    "#### Q7"
   ]
  },
  {
   "cell_type": "code",
   "execution_count": 88,
   "id": "3886f2c7",
   "metadata": {},
   "outputs": [],
   "source": [
    "import requests\n",
    "from bs4 import BeautifulSoup\n",
    "\n",
    "def webdir(url, depth, indent):\n",
    "    print(' ' * indent + url)\n",
    "    increamental=1\n",
    "    if depth == 0:\n",
    "        return\n",
    "    \n",
    "    response = requests.get(url)\n",
    "    print(response.status_code)\n",
    "    \n",
    "    if response.status_code != 200:\n",
    "        return\n",
    "   \n",
    "    all_web_data = BeautifulSoup(response.content, 'html.parser')\n",
    "    print(all_web_data)\n",
    "    \n",
    "    anchor_link = all_web_data.find_all('a')\n",
    "   \n",
    "    for link in anchor_link:\n",
    "        temp = link.get('href')\n",
    "        if temp.startswith('http'):\n",
    "            webdir(temp, depth - increamental, indent + increamental)"
   ]
  },
  {
   "cell_type": "code",
   "execution_count": 89,
   "id": "df4f8daa",
   "metadata": {},
   "outputs": [
    {
     "name": "stdout",
     "output_type": "stream",
     "text": [
      "http://reed.cs.depaul.edu/lperkovic/csc242/test1.html\n",
      "404\n"
     ]
    }
   ],
   "source": [
    "webdir('http://reed.cs.depaul.edu/lperkovic/csc242/test1.html', 2, 0)"
   ]
  },
  {
   "cell_type": "code",
   "execution_count": null,
   "id": "d4d5ad57",
   "metadata": {},
   "outputs": [],
   "source": []
  },
  {
   "cell_type": "code",
   "execution_count": null,
   "id": "5828d396",
   "metadata": {},
   "outputs": [],
   "source": []
  },
  {
   "cell_type": "markdown",
   "id": "bc0f9a8f",
   "metadata": {},
   "source": [
    "#### Q8"
   ]
  },
  {
   "cell_type": "code",
   "execution_count": 42,
   "id": "44a265d8",
   "metadata": {},
   "outputs": [],
   "source": [
    "import sqlite3\n",
    "connection_p = sqlite3.connect('ps.db')"
   ]
  },
  {
   "cell_type": "code",
   "execution_count": null,
   "id": "7b80fb7c",
   "metadata": {},
   "outputs": [],
   "source": [
    "connection_p.execute('''CREATE TABLE climate(City text,Country text,Season text,Temperature integer,Rainfall integer);''')"
   ]
  },
  {
   "cell_type": "code",
   "execution_count": 45,
   "id": "dac5c19b",
   "metadata": {},
   "outputs": [
    {
     "data": {
      "text/plain": [
       "<sqlite3.Cursor at 0x137646727a0>"
      ]
     },
     "execution_count": 45,
     "metadata": {},
     "output_type": "execute_result"
    }
   ],
   "source": [
    "connection_p.execute(\"insert into climate(City,Country,Season,Temperature,Rainfall) values('Mumbai','India','Winter',24.8,5.9);\")\n",
    "connection_p.execute(\"insert into climate(City,Country,Season,Temperature,Rainfall) values('Mumbai','India','Spring',28.4,16.2);\")\n",
    "connection_p.execute(\"insert into climate(City,Country,Season,Temperature,Rainfall) values('Mumbai','India','Summer',27.9,1549.4);\")\n",
    "connection_p.execute(\"insert into climate(City,Country,Season,Temperature,Rainfall) values('Mumbai','India','Fall',27.6,346.0);\")\n",
    "connection_p.execute(\"insert into climate(City,Country,Season,Temperature,Rainfall) values('London','United Kingdom','Winter',4.2,207.7);\")\n",
    "connection_p.execute(\"insert into climate(City,Country,Season,Temperature,Rainfall) values('London','United Kingdom','Spring',8.3,169.6);\")\n",
    "connection_p.execute(\"insert into climate(City,Country,Season,Temperature,Rainfall) values('London','United Kingdom','Summer',15.7,157.0);\")\n",
    "connection_p.execute(\"insert into climate(City,Country,Season,Temperature,Rainfall) values('London','United Kingdom','Fall',10.4,218.5);\")\n",
    "connection_p.execute(\"insert into climate(City,Country,Season,Temperature,Rainfall) values('Cairo','Egypt','Winter',13.6,16.5);\")\n",
    "connection_p.execute(\"insert into climate(City,Country,Season,Temperature,Rainfall) values('Cairo','Egypt','Spring',20.7,6.5);\")\n",
    "connection_p.execute(\"insert into climate(City,Country,Season,Temperature,Rainfall) values('Cairo','Egypt','Summer',27.7,0.1);\")\n",
    "connection_p.execute(\"insert into climate(City,Country,Season,Temperature,Rainfall) values('Cairo','Egypt','Fall',22.2,4.5);\")"
   ]
  },
  {
   "cell_type": "code",
   "execution_count": null,
   "id": "00fef5e8",
   "metadata": {},
   "outputs": [],
   "source": []
  },
  {
   "cell_type": "code",
   "execution_count": 56,
   "id": "f5bc04c5",
   "metadata": {},
   "outputs": [],
   "source": [
    "# replace <table name> with your table name here i am using climate\n",
    "#a\n",
    "q_a=\"select Temperature from climate\"\n",
    "#b\n",
    "q_b=\"select distinct city from climate\"\n",
    "#c\n",
    "q_c=\"select * from climate where country ='India'\"\n",
    "#d\n",
    "q_d=\"select * from climate where Season='Fall'\"\n",
    "#e\n",
    "q_e=\"select city,country,season from climate where Rainfall between 200 and 400\"\n",
    "#f\n",
    "q_f=\"select city,country from climate where Season='Fall' and Temperature>20 order by Temperature\"\n",
    "#g\n",
    "q_g=\"select sum(Rainfall) from climate where city='Cairo'\"\n",
    "#h\n",
    "q_h=\"select season, sum(Temperature) from climate group by season\""
   ]
  },
  {
   "cell_type": "code",
   "execution_count": 48,
   "id": "08d6b880",
   "metadata": {},
   "outputs": [
    {
     "data": {
      "text/plain": [
       "[(24.8,),\n",
       " (28.4,),\n",
       " (27.9,),\n",
       " (27.6,),\n",
       " (4.2,),\n",
       " (8.3,),\n",
       " (15.7,),\n",
       " (10.4,),\n",
       " (13.6,),\n",
       " (20.7,),\n",
       " (27.7,),\n",
       " (22.2,)]"
      ]
     },
     "execution_count": 48,
     "metadata": {},
     "output_type": "execute_result"
    }
   ],
   "source": [
    "connection_p.execute(q_a).fetchall()"
   ]
  },
  {
   "cell_type": "code",
   "execution_count": 49,
   "id": "0090ef48",
   "metadata": {},
   "outputs": [
    {
     "data": {
      "text/plain": [
       "[('Mumbai',), ('London',), ('Cairo',)]"
      ]
     },
     "execution_count": 49,
     "metadata": {},
     "output_type": "execute_result"
    }
   ],
   "source": [
    "connection_p.execute(q_b).fetchall()"
   ]
  },
  {
   "cell_type": "code",
   "execution_count": 50,
   "id": "d9e35000",
   "metadata": {},
   "outputs": [
    {
     "data": {
      "text/plain": [
       "[('Mumbai', 'India', 'Winter', 24.8, 5.9),\n",
       " ('Mumbai', 'India', 'Spring', 28.4, 16.2),\n",
       " ('Mumbai', 'India', 'Summer', 27.9, 1549.4),\n",
       " ('Mumbai', 'India', 'Fall', 27.6, 346)]"
      ]
     },
     "execution_count": 50,
     "metadata": {},
     "output_type": "execute_result"
    }
   ],
   "source": [
    "connection_p.execute(q_c).fetchall()"
   ]
  },
  {
   "cell_type": "code",
   "execution_count": 51,
   "id": "acbc5aa2",
   "metadata": {},
   "outputs": [
    {
     "data": {
      "text/plain": [
       "[('Mumbai', 'India', 'Fall', 27.6, 346),\n",
       " ('London', 'United Kingdom', 'Fall', 10.4, 218.5),\n",
       " ('Cairo', 'Egypt', 'Fall', 22.2, 4.5)]"
      ]
     },
     "execution_count": 51,
     "metadata": {},
     "output_type": "execute_result"
    }
   ],
   "source": [
    "connection_p.execute(q_d).fetchall()"
   ]
  },
  {
   "cell_type": "code",
   "execution_count": 57,
   "id": "fa88bfa1",
   "metadata": {},
   "outputs": [
    {
     "data": {
      "text/plain": [
       "[('Mumbai', 'India', 'Fall'),\n",
       " ('London', 'United Kingdom', 'Winter'),\n",
       " ('London', 'United Kingdom', 'Fall')]"
      ]
     },
     "execution_count": 57,
     "metadata": {},
     "output_type": "execute_result"
    }
   ],
   "source": [
    "connection_p.execute(q_e).fetchall()"
   ]
  },
  {
   "cell_type": "code",
   "execution_count": 53,
   "id": "ab70e5a8",
   "metadata": {},
   "outputs": [
    {
     "data": {
      "text/plain": [
       "[('Cairo', 'Egypt'), ('Mumbai', 'India')]"
      ]
     },
     "execution_count": 53,
     "metadata": {},
     "output_type": "execute_result"
    }
   ],
   "source": [
    "connection_p.execute(q_f).fetchall()"
   ]
  },
  {
   "cell_type": "code",
   "execution_count": 54,
   "id": "f5a5a388",
   "metadata": {},
   "outputs": [
    {
     "data": {
      "text/plain": [
       "[(27.6,)]"
      ]
     },
     "execution_count": 54,
     "metadata": {},
     "output_type": "execute_result"
    }
   ],
   "source": [
    "connection_p.execute(q_g).fetchall()"
   ]
  },
  {
   "cell_type": "code",
   "execution_count": 55,
   "id": "9da9cb20",
   "metadata": {},
   "outputs": [
    {
     "data": {
      "text/plain": [
       "[('Fall', 60.2),\n",
       " ('Spring', 57.400000000000006),\n",
       " ('Summer', 71.3),\n",
       " ('Winter', 42.6)]"
      ]
     },
     "execution_count": 55,
     "metadata": {},
     "output_type": "execute_result"
    }
   ],
   "source": [
    "connection_p.execute(q_h).fetchall()"
   ]
  },
  {
   "cell_type": "markdown",
   "id": "f07dc0a8",
   "metadata": {},
   "source": [
    "#### Q9"
   ]
  },
  {
   "cell_type": "code",
   "execution_count": 1,
   "id": "c11f05bc",
   "metadata": {},
   "outputs": [
    {
     "name": "stdout",
     "output_type": "stream",
     "text": [
      "['THE', 'QUICK', 'BROWN', 'FOX', 'JUMPS', 'OVER', 'THE', 'LAZY', 'DOG']\n",
      "['the', 'quick', 'brown', 'fox', 'jumps', 'over', 'the', 'lazy', 'dog']\n",
      "[3, 5, 5, 3, 5, 4, 3, 4, 3]\n",
      "[['THE', 'the', 3], ['QUICK', 'quick', 5], ['BROWN', 'brown', 5], ['FOX', 'fox', 3], ['JUMPS', 'jumps', 5], ['OVER', 'over', 4], ['THE', 'the', 3], ['LAZY', 'lazy', 4], ['DOG', 'dog', 3]]\n",
      "['quick', 'brown', 'jumps', 'over', 'lazy']\n"
     ]
    }
   ],
   "source": [
    "words = ['The', 'quick', 'brown', 'fox', 'jumps', 'over','the', 'lazy', 'dog']\n",
    "ans_a=[word.upper() for word in words]\n",
    "print(ans_a)\n",
    "ans_b=[word.lower() for word in words]\n",
    "print(ans_b)\n",
    "ans_c=[len(word) for word in words]\n",
    "print(ans_c)\n",
    "ans_d=[[word.upper(),word.lower(),len(word)]  for word in words]\n",
    "print(ans_d)\n",
    "ans_e=[word  for word in words if len(word)>=4]\n",
    "print(ans_e)"
   ]
  },
  {
   "cell_type": "code",
   "execution_count": null,
   "id": "795a6a59",
   "metadata": {},
   "outputs": [],
   "source": []
  },
  {
   "cell_type": "code",
   "execution_count": null,
   "id": "05df37a6",
   "metadata": {},
   "outputs": [],
   "source": []
  },
  {
   "cell_type": "code",
   "execution_count": null,
   "id": "3467b2c4",
   "metadata": {},
   "outputs": [],
   "source": []
  }
 ],
 "metadata": {
  "kernelspec": {
   "display_name": "Python 3 (ipykernel)",
   "language": "python",
   "name": "python3"
  },
  "language_info": {
   "codemirror_mode": {
    "name": "ipython",
    "version": 3
   },
   "file_extension": ".py",
   "mimetype": "text/x-python",
   "name": "python",
   "nbconvert_exporter": "python",
   "pygments_lexer": "ipython3",
   "version": "3.9.13"
  }
 },
 "nbformat": 4,
 "nbformat_minor": 5
}
